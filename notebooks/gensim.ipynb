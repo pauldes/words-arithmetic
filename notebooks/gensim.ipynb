{
 "metadata": {
  "language_info": {
   "codemirror_mode": {
    "name": "ipython",
    "version": 3
   },
   "file_extension": ".py",
   "mimetype": "text/x-python",
   "name": "python",
   "nbconvert_exporter": "python",
   "pygments_lexer": "ipython3",
   "version": "3.8.7"
  },
  "orig_nbformat": 2,
  "kernelspec": {
   "name": "python387jvsc74a57bd06c5660fad8db4d612f0241131b579d739403d2684b3f57d17e5c4542b83f9113",
   "display_name": "Python 3.8.7 64-bit ('words-arithmetic-dLv2RUmJ': pipenv)"
  },
  "metadata": {
   "interpreter": {
    "hash": "e8efc3c063e0173f29ddb06043037ad26aaa42f59bec9e7d6a4a77e68ab2e4ce"
   }
  }
 },
 "nbformat": 4,
 "nbformat_minor": 2,
 "cells": [
  {
   "cell_type": "code",
   "execution_count": 1,
   "metadata": {},
   "outputs": [
    {
     "output_type": "stream",
     "name": "stderr",
     "text": [
      "C:\\Users\\Paul\\.virtualenvs\\words-arithmetic-dLv2RUmJ\\lib\\site-packages\\gensim\\similarities\\__init__.py:15: UserWarning: The gensim.similarities.levenshtein submodule is disabled, because the optional Levenshtein package <https://pypi.org/project/python-Levenshtein/> is unavailable. Install Levenhstein (e.g. `pip install python-Levenshtein`) to suppress this warning.\n  warnings.warn(msg)\n"
     ]
    }
   ],
   "source": [
    "import gensim.downloader"
   ]
  },
  {
   "cell_type": "code",
   "execution_count": 2,
   "metadata": {},
   "outputs": [
    {
     "output_type": "stream",
     "name": "stdout",
     "text": [
      "['fasttext-wiki-news-subwords-300', 'conceptnet-numberbatch-17-06-300', 'word2vec-ruscorpora-300', 'word2vec-google-news-300', 'glove-wiki-gigaword-50', 'glove-wiki-gigaword-100', 'glove-wiki-gigaword-200', 'glove-wiki-gigaword-300', 'glove-twitter-25', 'glove-twitter-50', 'glove-twitter-100', 'glove-twitter-200', '__testing_word2vec-matrix-synopsis']\n"
     ]
    }
   ],
   "source": [
    "print(list(gensim.downloader.info()['models'].keys()))"
   ]
  },
  {
   "cell_type": "code",
   "execution_count": 3,
   "metadata": {},
   "outputs": [],
   "source": [
    "#model = gensim.downloader.load('word2vec-google-news-300')\n",
    "#model = gensim.downloader.load('glove-wiki-gigaword-50')\n",
    "model = gensim.downloader.load('fasttext-wiki-news-subwords-300')"
   ]
  },
  {
   "cell_type": "code",
   "execution_count": 4,
   "metadata": {},
   "outputs": [
    {
     "output_type": "stream",
     "name": "stdout",
     "text": [
      "<gensim.models.keyedvectors.KeyedVectors object at 0x00000138D6E7A940> <class 'gensim.models.keyedvectors.KeyedVectors'>\n"
     ]
    }
   ],
   "source": [
    "print(model, type(model))"
   ]
  },
  {
   "cell_type": "code",
   "execution_count": 5,
   "metadata": {},
   "outputs": [
    {
     "output_type": "execute_result",
     "data": {
      "text/plain": [
       "[('facebook', 0.9333045482635498),\n",
       " ('myspace', 0.8801369667053223),\n",
       " ('youtube', 0.8430657982826233),\n",
       " ('blog', 0.8262057304382324),\n",
       " ('blogs', 0.8064824342727661),\n",
       " ('blogging', 0.7970671057701111),\n",
       " ('tumblr', 0.7901089787483215),\n",
       " ('email', 0.778261125087738),\n",
       " ('tweets', 0.7604537010192871),\n",
       " ('e-mail', 0.7538726925849915)]"
      ]
     },
     "metadata": {},
     "execution_count": 5
    }
   ],
   "source": [
    "model.most_similar('twitter')"
   ]
  },
  {
   "cell_type": "code",
   "execution_count": 6,
   "metadata": {},
   "outputs": [
    {
     "output_type": "execute_result",
     "data": {
      "text/plain": [
       "(50,)"
      ]
     },
     "metadata": {},
     "execution_count": 6
    }
   ],
   "source": [
    "wv = model['apple']\n",
    "wv.shape"
   ]
  },
  {
   "cell_type": "code",
   "execution_count": 7,
   "metadata": {},
   "outputs": [
    {
     "output_type": "stream",
     "name": "stdout",
     "text": [
      "queen: 0.8524\nthrone: 0.7664\nprince: 0.7592\n"
     ]
    }
   ],
   "source": [
    "result = model.most_similar(positive=['woman', 'king'], negative=['man'], topn=3)\n",
    "most_similar_key, similarity = result[0]\n",
    "print(f\"{most_similar_key}: {similarity:.4f}\")\n",
    "most_similar_key, similarity = result[1]\n",
    "print(f\"{most_similar_key}: {similarity:.4f}\")\n",
    "most_similar_key, similarity = result[2]\n",
    "print(f\"{most_similar_key}: {similarity:.4f}\")"
   ]
  },
  {
   "cell_type": "code",
   "execution_count": 8,
   "metadata": {},
   "outputs": [
    {
     "output_type": "stream",
     "name": "stdout",
     "text": [
      "queen: 0.9289\nthrone: 0.8823\nelizabeth: 0.8790\n"
     ]
    }
   ],
   "source": [
    "result = model.most_similar_cosmul(positive=['woman', 'king'], negative=['man'], topn=3)\n",
    "most_similar_key, similarity = result[0]\n",
    "print(f\"{most_similar_key}: {similarity:.4f}\")\n",
    "most_similar_key, similarity = result[1]\n",
    "print(f\"{most_similar_key}: {similarity:.4f}\")\n",
    "most_similar_key, similarity = result[2]\n",
    "print(f\"{most_similar_key}: {similarity:.4f}\")"
   ]
  },
  {
   "cell_type": "code",
   "execution_count": 9,
   "metadata": {},
   "outputs": [
    {
     "output_type": "stream",
     "name": "stdout",
     "text": [
      "king: 0.8860\nqueen: 0.8610\ndaughter: 0.7685\n"
     ]
    }
   ],
   "source": [
    "diff_vector = model['king'] - model['man'] + model['woman']\n",
    "result = model.most_similar(positive=[diff_vector], topn=3)\n",
    "most_similar_key, similarity = result[0]\n",
    "print(f\"{most_similar_key}: {similarity:.4f}\")\n",
    "most_similar_key, similarity = result[1]\n",
    "print(f\"{most_similar_key}: {similarity:.4f}\")\n",
    "most_similar_key, similarity = result[2]\n",
    "print(f\"{most_similar_key}: {similarity:.4f}\")"
   ]
  },
  {
   "cell_type": "code",
   "execution_count": 10,
   "metadata": {},
   "outputs": [
    {
     "output_type": "stream",
     "name": "stdout",
     "text": [
      "50\n0\n"
     ]
    }
   ],
   "source": [
    "print(sum(model['king'] == model.get_vector('king', norm=False)))\n",
    "print(sum(model['king'] == model.get_vector('king', norm=True)))"
   ]
  },
  {
   "cell_type": "code",
   "execution_count": 11,
   "metadata": {},
   "outputs": [
    {
     "output_type": "stream",
     "name": "stdout",
     "text": [
      "0.5629\n"
     ]
    }
   ],
   "source": [
    "sentence_obama = 'Obama speaks to the media in Illinois'.lower().split()\n",
    "sentence_president = 'The president greets the press in Chicago'.lower().split()\n",
    "similarity = model.wmdistance(sentence_obama, sentence_president)\n",
    "print(f\"{similarity:.4f}\")"
   ]
  },
  {
   "cell_type": "code",
   "execution_count": 12,
   "metadata": {},
   "outputs": [
    {
     "output_type": "stream",
     "name": "stdout",
     "text": [
      "0.7484\n"
     ]
    }
   ],
   "source": [
    "similarity = model.n_similarity(['sushi', 'shop'], ['japanese', 'restaurant'])\n",
    "print(f\"{similarity:.4f}\")"
   ]
  },
  {
   "cell_type": "code",
   "execution_count": null,
   "metadata": {},
   "outputs": [],
   "source": []
  }
 ]
}